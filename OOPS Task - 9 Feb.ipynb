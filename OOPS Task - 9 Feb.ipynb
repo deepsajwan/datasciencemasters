{
 "cells": [
  {
   "cell_type": "markdown",
   "id": "6d46015c",
   "metadata": {},
   "source": [
    "## Q1. \n",
    "Create a vehicle class with an init method having instance variables as name_of_vehicle, max_speed and average_of_vehicle."
   ]
  },
  {
   "cell_type": "code",
   "execution_count": 1,
   "id": "06ab7271",
   "metadata": {},
   "outputs": [],
   "source": [
    "class vehicle():\n",
    "    def __init__(self,name_of_vehicle,max_speed,average_of_vehicle):\n",
    "        self.name_of_vehicle = name_of_vehicle\n",
    "        self.max_speed = max_speed\n",
    "        self.average_of_vehicle = average_of_vehicle"
   ]
  },
  {
   "cell_type": "markdown",
   "id": "07cf0973",
   "metadata": {},
   "source": [
    "## Q2. \n",
    "Create a child class car from the vehicle class created in Que 1, which will inherit the vehicle class.\n",
    "Create a method named seating_capacity which takes capacity as an argument and returns the name of\n",
    "the vehicle and its seating capacity."
   ]
  },
  {
   "cell_type": "code",
   "execution_count": 2,
   "id": "777d0824",
   "metadata": {},
   "outputs": [],
   "source": [
    "class car(vehicle):\n",
    "    def seating_capacity(self,capacity):\n",
    "        self.capacity = capacity\n",
    "        return f'{self.name_of_vehicle} has a seating capacity of {self.capacity}'"
   ]
  },
  {
   "cell_type": "code",
   "execution_count": 6,
   "id": "386e5265",
   "metadata": {},
   "outputs": [],
   "source": [
    "obj_car = car('Tata Nano',100,15)"
   ]
  },
  {
   "cell_type": "code",
   "execution_count": 8,
   "id": "86cca467",
   "metadata": {},
   "outputs": [
    {
     "data": {
      "text/plain": [
       "'Tata Nano has seating capacity of 4'"
      ]
     },
     "execution_count": 8,
     "metadata": {},
     "output_type": "execute_result"
    }
   ],
   "source": [
    "obj_car.seating_capacity(4)"
   ]
  },
  {
   "cell_type": "markdown",
   "id": "7d5647c0",
   "metadata": {},
   "source": [
    "## Q3. \n",
    "What is multiple inheritance? Write a python code to demonstrate multiple inheritance.\n",
    "\n",
    "### Multiple inheritance\n",
    "\n",
    "Derived class inherits properties and methods from multiple classes"
   ]
  },
  {
   "cell_type": "code",
   "execution_count": 10,
   "id": "41af0226",
   "metadata": {},
   "outputs": [
    {
     "name": "stdout",
     "output_type": "stream",
     "text": [
      "5\n",
      "6\n",
      "A:  5\n",
      "B:  6\n"
     ]
    }
   ],
   "source": [
    "class A:\n",
    "    a = \"\"\n",
    "    def afunc(self):\n",
    "        print(self.a)\n",
    "class B:\n",
    "    b = \"\"\n",
    "    def bfunc(self):\n",
    "        print(self.b)\n",
    "\n",
    "class C(A,B):\n",
    "    def cfunc(self):\n",
    "        print(\"A: \",self.a)\n",
    "        print(\"B: \",self.b)\n",
    "\n",
    "c1 = C()\n",
    "c1.a = 5\n",
    "c1.afunc()\n",
    "c1.b = 6\n",
    "c1.bfunc()\n",
    "c1.cfunc()"
   ]
  },
  {
   "cell_type": "markdown",
   "id": "0ff87129",
   "metadata": {},
   "source": [
    "## Q4. \n",
    "What are getter and setter in python? Create a class and create a getter and a setter method in this\n",
    "class.\n",
    "\n",
    "Getter and setter are fucntions to get (access) and set (modify) the values of the class attributes instead of directly allowing the access to the attributes."
   ]
  },
  {
   "cell_type": "code",
   "execution_count": 15,
   "id": "5aac7add",
   "metadata": {},
   "outputs": [],
   "source": [
    "# Example of setter and getter\n",
    "\n",
    "class student:\n",
    "    def __init__(self,name,age):\n",
    "        self.__name = name\n",
    "        self.__age = age\n",
    "    def get_name(self):\n",
    "        return self.__name\n",
    "    def set_name(self,name):\n",
    "        self.__name = name\n",
    "    def get_age(self):\n",
    "        return self.__age\n",
    "    def set_age(self,age):\n",
    "        self.__age = age"
   ]
  },
  {
   "cell_type": "code",
   "execution_count": 16,
   "id": "433246a4",
   "metadata": {},
   "outputs": [],
   "source": [
    "s1 = student('Deepak',15)"
   ]
  },
  {
   "cell_type": "code",
   "execution_count": 17,
   "id": "9041fe05",
   "metadata": {},
   "outputs": [
    {
     "data": {
      "text/plain": [
       "'Deepak'"
      ]
     },
     "execution_count": 17,
     "metadata": {},
     "output_type": "execute_result"
    }
   ],
   "source": [
    "s1.get_name()"
   ]
  },
  {
   "cell_type": "markdown",
   "id": "7b92cf9b",
   "metadata": {},
   "source": [
    "## Q5.\n",
    "What is method overriding in python? Write a python code to demonstrate method overriding."
   ]
  },
  {
   "cell_type": "markdown",
   "id": "1cee1859",
   "metadata": {},
   "source": [
    "Method overriding in Python occurs when a child class has same method name and arguments as the parent class. Child method will override the parent class method and will be called."
   ]
  },
  {
   "cell_type": "code",
   "execution_count": 19,
   "id": "7ae08f44",
   "metadata": {},
   "outputs": [],
   "source": [
    "# Example of mehtod overriding\n",
    "class parent:\n",
    "    def whoareyou(self):\n",
    "        return \"I am the parent class\"\n"
   ]
  },
  {
   "cell_type": "code",
   "execution_count": 20,
   "id": "e7649d8d",
   "metadata": {},
   "outputs": [],
   "source": [
    "class child(parent):\n",
    "    def whoareyou(self):\n",
    "        return \"I am the child class\""
   ]
  },
  {
   "cell_type": "code",
   "execution_count": 21,
   "id": "f7567ebf",
   "metadata": {},
   "outputs": [],
   "source": [
    "obj = child()"
   ]
  },
  {
   "cell_type": "code",
   "execution_count": 23,
   "id": "7b7d25a3",
   "metadata": {},
   "outputs": [
    {
     "data": {
      "text/plain": [
       "'I am the child class'"
      ]
     },
     "execution_count": 23,
     "metadata": {},
     "output_type": "execute_result"
    }
   ],
   "source": [
    "# Child class method is called here\n",
    "obj.whoareyou()"
   ]
  },
  {
   "cell_type": "code",
   "execution_count": null,
   "id": "6ab53615",
   "metadata": {},
   "outputs": [],
   "source": []
  }
 ],
 "metadata": {
  "kernelspec": {
   "display_name": "Python 3 (ipykernel)",
   "language": "python",
   "name": "python3"
  },
  "language_info": {
   "codemirror_mode": {
    "name": "ipython",
    "version": 3
   },
   "file_extension": ".py",
   "mimetype": "text/x-python",
   "name": "python",
   "nbconvert_exporter": "python",
   "pygments_lexer": "ipython3",
   "version": "3.9.13"
  }
 },
 "nbformat": 4,
 "nbformat_minor": 5
}
