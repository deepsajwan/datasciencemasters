{
 "cells": [
  {
   "cell_type": "markdown",
   "id": "72041111",
   "metadata": {},
   "source": [
    "## Question 1\n",
    "\n",
    "Chacterstics of Tuple\n",
    "\n",
    "1. Tuples are ordered\n",
    "2. Tuples are indexed\n",
    "3. Tuples are immutable\n",
    "4. Tuples allows duplicate values"
   ]
  },
  {
   "cell_type": "markdown",
   "id": "d57dec67",
   "metadata": {},
   "source": [
    "## Question 2\n",
    "\n",
    "count() and index() are two built-in tuple menthods.\n",
    "\n",
    "Tuples are immutable where as lists are mutable so tuples have only two methods where as lists have multiple mehtods to support modification as well."
   ]
  },
  {
   "cell_type": "code",
   "execution_count": 6,
   "id": "6b073c6a",
   "metadata": {},
   "outputs": [
    {
     "data": {
      "text/plain": [
       "2"
      ]
     },
     "execution_count": 6,
     "metadata": {},
     "output_type": "execute_result"
    }
   ],
   "source": [
    "# count() example, which counts the number of time a particular item occurs in a tuple\n",
    "t1 = (2,3,4,5,6,5,6)\n",
    "t1.count(6)"
   ]
  },
  {
   "cell_type": "code",
   "execution_count": 8,
   "id": "f451a5ad",
   "metadata": {},
   "outputs": [
    {
     "data": {
      "text/plain": [
       "3"
      ]
     },
     "execution_count": 8,
     "metadata": {},
     "output_type": "execute_result"
    }
   ],
   "source": [
    "# index() example, gives the first occurence index of an item in the tuple\n",
    "t1.index(5)"
   ]
  },
  {
   "cell_type": "markdown",
   "id": "9eea4f4b",
   "metadata": {},
   "source": [
    "## Question 3\n",
    "\n",
    "Set doesn't allow duplicate items"
   ]
  },
  {
   "cell_type": "code",
   "execution_count": 11,
   "id": "b7a2433e",
   "metadata": {},
   "outputs": [
    {
     "data": {
      "text/plain": [
       "[1, 2, 3, 4]"
      ]
     },
     "execution_count": 11,
     "metadata": {},
     "output_type": "execute_result"
    }
   ],
   "source": [
    "# code to remove duplicates from a list using set\n",
    "List = [1, 1, 1, 2, 1, 3, 1, 4, 2, 1, 2, 2, 2, 3, 2, 4, 3, 1, 3, 2, 3, 3, 3, 4, 4, 1, 4, 2, 4, 3, 4, 4]\n",
    "s1 = set(List)\n",
    "new_list = list(s1)\n",
    "new_list"
   ]
  },
  {
   "cell_type": "markdown",
   "id": "e35e7562",
   "metadata": {},
   "source": [
    "## Question 4\n",
    "\n",
    "Union will return a copy of the original set including the missing elements and there will be no change in the original set.\n",
    "Update will update the original set in place and add the missing elements in the original set."
   ]
  },
  {
   "cell_type": "code",
   "execution_count": 13,
   "id": "11f6995c",
   "metadata": {},
   "outputs": [
    {
     "name": "stdout",
     "output_type": "stream",
     "text": [
      "{1, 2, 3, 5, 6, 7}\n",
      "{1, 2, 3}\n"
     ]
    }
   ],
   "source": [
    "# Union example, union returned a new set with missing elements but didn't change the original set\n",
    "s1 = {1,2,3}\n",
    "s2 = {5,6,7}\n",
    "print(s1.union(s2))\n",
    "print(s1)\n"
   ]
  },
  {
   "cell_type": "code",
   "execution_count": 15,
   "id": "a3dc648b",
   "metadata": {},
   "outputs": [
    {
     "name": "stdout",
     "output_type": "stream",
     "text": [
      "{1, 2, 3, 5, 6, 7}\n"
     ]
    }
   ],
   "source": [
    "# Update example, update changed the original set in place\n",
    "s1 = {1,2,3}\n",
    "s2 = {5,6,7}\n",
    "s1.update(s2)\n",
    "print(s1)\n"
   ]
  },
  {
   "cell_type": "markdown",
   "id": "be0d125d",
   "metadata": {},
   "source": [
    "## Question 5 \n",
    "\n",
    "Dictionary is a datatype which stores data in key,value pairs. They are ordered, mutable and don't allow duplciate values."
   ]
  },
  {
   "cell_type": "markdown",
   "id": "3cdc167f",
   "metadata": {},
   "source": [
    "## Question 6\n",
    "\n",
    "We can create nested dictionaries"
   ]
  },
  {
   "cell_type": "code",
   "execution_count": 22,
   "id": "4f15c5c0",
   "metadata": {},
   "outputs": [
    {
     "data": {
      "text/plain": [
       "{'key1': {'name': 'Sam'}, 'key2': {'name': 'Ram'}}"
      ]
     },
     "execution_count": 22,
     "metadata": {},
     "output_type": "execute_result"
    }
   ],
   "source": [
    "# nested dictonaries example\n",
    "\n",
    "dict1 = {'key1' : {'name' : 'Sam'}, 'key2' : {'name' : 'Ram'}}\n",
    "dict1"
   ]
  },
  {
   "cell_type": "markdown",
   "id": "d4dcc0ae",
   "metadata": {},
   "source": [
    "## Question 7\n"
   ]
  },
  {
   "cell_type": "code",
   "execution_count": 24,
   "id": "f8b2b9e5",
   "metadata": {},
   "outputs": [
    {
     "data": {
      "text/plain": [
       "{'language': 'Python',\n",
       " 'course': 'Data Science Masters',\n",
       " 'topics': ['Python', 'Machine Learning', 'Deep Learning']}"
      ]
     },
     "execution_count": 24,
     "metadata": {},
     "output_type": "execute_result"
    }
   ],
   "source": [
    "# topics key created using setdefault() method\n",
    "\n",
    "dict1 = {'language' : 'Python', 'course': 'Data Science Masters'}\n",
    "\n",
    "dict1.setdefault('topics',['Python', 'Machine Learning', 'Deep Learning'] )\n",
    "\n",
    "dict1\n",
    "                            \n",
    "                            "
   ]
  },
  {
   "cell_type": "markdown",
   "id": "4f85bd3d",
   "metadata": {},
   "source": [
    "## Question 8\n",
    "\n",
    "Three view objects in dictionaries are items, keys, values."
   ]
  },
  {
   "cell_type": "code",
   "execution_count": 27,
   "id": "14a9a241",
   "metadata": {},
   "outputs": [
    {
     "name": "stdout",
     "output_type": "stream",
     "text": [
      "Items:\n",
      "dict_items([('Sport', 'Cricket'), ('Teams', ['India', 'Australia', 'England', 'South Africa', 'Sri Lanka', 'New Zealand'])])\n",
      "Keys:\n",
      "dict_keys(['Sport', 'Teams'])\n",
      "Values:\n",
      "dict_values(['Cricket', ['India', 'Australia', 'England', 'South Africa', 'Sri Lanka', 'New Zealand']])\n"
     ]
    }
   ],
   "source": [
    "# Three view objects using built-in methods\n",
    "\n",
    "dict1 = {'Sport': 'Cricket' , 'Teams': ['India', 'Australia', 'England', 'South Africa', 'Sri Lanka', 'New Zealand']}\n",
    "\n",
    "print('Items:')\n",
    "print(dict1.items())\n",
    "print('Keys:')\n",
    "print(dict1.keys())\n",
    "print('Values:')\n",
    "print(dict1.values())"
   ]
  },
  {
   "cell_type": "code",
   "execution_count": null,
   "id": "6d35a3cb",
   "metadata": {},
   "outputs": [],
   "source": []
  }
 ],
 "metadata": {
  "kernelspec": {
   "display_name": "Python 3 (ipykernel)",
   "language": "python",
   "name": "python3"
  },
  "language_info": {
   "codemirror_mode": {
    "name": "ipython",
    "version": 3
   },
   "file_extension": ".py",
   "mimetype": "text/x-python",
   "name": "python",
   "nbconvert_exporter": "python",
   "pygments_lexer": "ipython3",
   "version": "3.9.13"
  }
 },
 "nbformat": 4,
 "nbformat_minor": 5
}
