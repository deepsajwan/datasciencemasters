{
 "cells": [
  {
   "cell_type": "markdown",
   "id": "1e43e049",
   "metadata": {},
   "source": [
    "## Question 1\n",
    "You are writing code for a company. The requirement of the company is that you create a python\n",
    "function that will check whether the password entered by the user is correct or not. The function should\n",
    "take the password as input and return the string “Valid Password” if the entered password follows the\n",
    "below-given password guidelines else it should return “Invalid Password”.\n",
    "\n",
    "Note: \n",
    "1. The Password should contain at least two uppercase letters and at least two lowercase letters.\n",
    "2. The Password should contain at least a number and three special characters.\n",
    "3. The length of the password should be 10 characters long."
   ]
  },
  {
   "cell_type": "code",
   "execution_count": 2,
   "id": "51e230a0",
   "metadata": {},
   "outputs": [],
   "source": [
    "def validate_password(password):\n",
    "    # check password length\n",
    "    if len(password) != 10:\n",
    "        return \"Invalid Passowrd\"\n",
    "    #check lowercase letters\n",
    "    elif len(list(filter(lambda x: x.islower(),password))) < 2:\n",
    "        return \"Invalid Password\"\n",
    "    # check uppercase letters\n",
    "    elif len(list(filter(lambda x: x.isupper(),password))) < 2:\n",
    "        return \"Invalid Password\"\n",
    "    # check numeric values\n",
    "    elif len(list(filter(lambda x: x.isnumeric(),password))) < 1:\n",
    "        return \"Invalid Password\"\n",
    "    # check special characters\n",
    "    elif len(list(filter(lambda x: not x.isalnum(),password))) < 3:\n",
    "        return \"Invalid Password\"\n",
    "    else:\n",
    "        return \"Valid Password\"\n",
    "    "
   ]
  },
  {
   "cell_type": "markdown",
   "id": "3669ea64",
   "metadata": {},
   "source": [
    "## Question 2\n",
    "Solve the below-given questions using at least one of the following:\n",
    "1. Lambda function\n",
    "2. Filter function\n",
    "3. Map function\n",
    "4. List Comprehension\n",
    " - Check if the string starts with a particular letter.\n",
    " - Check if the string is numeric.\n",
    " - Sort a list of tuples having fruit names and their quantity. [(\"mango\",99),(\"orange\",80), (\"grapes\", 1000)]\n",
    " - Find the squares of numbers from 1 to 10.\n",
    " - Find the cube root of numbers from 1 to 10.\n",
    " - Check if a given number is even.\n",
    " - Filter odd numbers from the given list.\n",
    "[1,2,3,4,5,6,7,8,9,10]\n",
    " - Sort a list of integers into positive and negative integers lists.\n",
    "[1,2,3,4,5,6,-1,-2,-3,-4,-5,0]"
   ]
  },
  {
   "cell_type": "code",
   "execution_count": 18,
   "id": "126f6987",
   "metadata": {},
   "outputs": [
    {
     "name": "stdout",
     "output_type": "stream",
     "text": [
      "True\n",
      "False\n"
     ]
    }
   ],
   "source": [
    "# Check if the string starts with a particular letter.\n",
    "startwith = lambda a,b : True if a[0]==b else False\n",
    "print(startwith('Pwskilss','P'))\n",
    "print(startwith('Pwskilss','p'))"
   ]
  },
  {
   "cell_type": "code",
   "execution_count": 22,
   "id": "fb088af2",
   "metadata": {},
   "outputs": [
    {
     "data": {
      "text/plain": [
       "True"
      ]
     },
     "execution_count": 22,
     "metadata": {},
     "output_type": "execute_result"
    }
   ],
   "source": [
    "#  Check if the string is numeric\n",
    "str = '2023'\n",
    "isnum = lambda x : True if x.isnumeric() else False\n",
    "isnum(str) "
   ]
  },
  {
   "cell_type": "code",
   "execution_count": 20,
   "id": "69cb931d",
   "metadata": {},
   "outputs": [
    {
     "data": {
      "text/plain": [
       "[('orange', 80), ('mango', 99), ('grapes', 1000)]"
      ]
     },
     "execution_count": 20,
     "metadata": {},
     "output_type": "execute_result"
    }
   ],
   "source": [
    "#  Sort a list of tuples having fruit names and their quantity. [(\"mango\",99),(\"orange\",80), (\"grapes\", 1000)]\n",
    "tup =  [(\"mango\",99),(\"orange\",80), (\"grapes\", 1000)]\n",
    "tup.sort(key = lambda x : x[1])\n",
    "tup"
   ]
  },
  {
   "cell_type": "code",
   "execution_count": 13,
   "id": "a8df3d97",
   "metadata": {},
   "outputs": [
    {
     "data": {
      "text/plain": [
       "[1, 4, 9, 16, 25, 36, 49, 64, 81, 100]"
      ]
     },
     "execution_count": 13,
     "metadata": {},
     "output_type": "execute_result"
    }
   ],
   "source": [
    "# Find the squares of numbers from 1 to 10\n",
    "list(map(lambda x : x**2, range(1,11)))"
   ]
  },
  {
   "cell_type": "code",
   "execution_count": 12,
   "id": "dadd8da0",
   "metadata": {},
   "outputs": [
    {
     "data": {
      "text/plain": [
       "[1.0, 1.26, 1.44, 1.59, 1.71, 1.82, 1.91, 2.0, 2.08, 2.15]"
      ]
     },
     "execution_count": 12,
     "metadata": {},
     "output_type": "execute_result"
    }
   ],
   "source": [
    "#  Find the cube root of numbers from 1 to 10.\n",
    "list(map(lambda x : round(x**(1/3),2), range(1,11)))"
   ]
  },
  {
   "cell_type": "code",
   "execution_count": 17,
   "id": "18b4e8ae",
   "metadata": {},
   "outputs": [
    {
     "name": "stdout",
     "output_type": "stream",
     "text": [
      "True\n",
      "False\n"
     ]
    }
   ],
   "source": [
    "# Check if a given number is even.\n",
    "iseven = lambda x : True if x%2==0 else False\n",
    "print(iseven(56))\n",
    "print(iseven(67))"
   ]
  },
  {
   "cell_type": "code",
   "execution_count": 15,
   "id": "57f2c3f0",
   "metadata": {},
   "outputs": [
    {
     "data": {
      "text/plain": [
       "[1, 3, 5, 7, 9]"
      ]
     },
     "execution_count": 15,
     "metadata": {},
     "output_type": "execute_result"
    }
   ],
   "source": [
    "# Filter odd numbers from the given list [1,2,3,4,5,6,7,8,9,10]\n",
    "l = filter(lambda x : x%2!=0,[1,2,3,4,5,6,7,8,9,10])\n",
    "list(l)"
   ]
  },
  {
   "cell_type": "code",
   "execution_count": 16,
   "id": "576ca2ff",
   "metadata": {},
   "outputs": [
    {
     "name": "stdout",
     "output_type": "stream",
     "text": [
      "[1, 2, 3, 4, 5, 6]\n",
      "[-1, -2, -3, -4, -5]\n"
     ]
    }
   ],
   "source": [
    "# Sort a list of integers into positive and negative integers lists [1,2,3,4,5,6,-1,-2,-3,-4,-5,0]\n",
    "l = [1,2,3,4,5,6,-1,-2,-3,-4,-5,0]\n",
    "leven = list(filter(lambda x:x>0,l))\n",
    "lodd = list(filter(lambda x:x<0,l))\n",
    "print(leven)\n",
    "print(lodd)"
   ]
  },
  {
   "cell_type": "code",
   "execution_count": null,
   "id": "b2b4ca67",
   "metadata": {},
   "outputs": [],
   "source": []
  }
 ],
 "metadata": {
  "kernelspec": {
   "display_name": "Python 3 (ipykernel)",
   "language": "python",
   "name": "python3"
  },
  "language_info": {
   "codemirror_mode": {
    "name": "ipython",
    "version": 3
   },
   "file_extension": ".py",
   "mimetype": "text/x-python",
   "name": "python",
   "nbconvert_exporter": "python",
   "pygments_lexer": "ipython3",
   "version": "3.9.13"
  }
 },
 "nbformat": 4,
 "nbformat_minor": 5
}
