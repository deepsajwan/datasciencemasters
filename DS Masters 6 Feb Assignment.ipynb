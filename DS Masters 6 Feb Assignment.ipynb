{
 "cells": [
  {
   "cell_type": "markdown",
   "id": "c8ae4ebf",
   "metadata": {},
   "source": [
    "## Question1\n",
    "Create a function which will take a list as an argument and return the product of all the numbers\n",
    "after creating a flat list.\n",
    "Use the below-given list as an argument for your function.\n",
    "list1 = [1,2,3,4, [44,55,66, True], False, (34,56,78,89,34), {1,2,3,3,2,1}, {1:34, \"key2\": [55, 67, 78, 89], 4: (45,\n",
    "22, 61, 34)}, [56, 'data science'], 'Machine Learning']"
   ]
  },
  {
   "cell_type": "code",
   "execution_count": 1,
   "id": "daae46c5",
   "metadata": {},
   "outputs": [],
   "source": [
    " list1 = [1,2,3,4, [44,55,66, True], False, (34,56,78,89,34), {1,2,3,3,2,1}, {1:34, \"key2\": [55, 67, 78, 89], 4: (45, 22, 61, 34)}, [56, 'data science'], 'Machine Learning']"
   ]
  },
  {
   "cell_type": "code",
   "execution_count": 2,
   "id": "fb5b8517",
   "metadata": {},
   "outputs": [],
   "source": [
    "def flatten(l):\n",
    "    lflat =[]\n",
    "    product = 1\n",
    "    for i in l:\n",
    "        if type(i) == int:\n",
    "            \n",
    "            lflat.append(i)\n",
    "        elif type(i) == list:\n",
    "            for j in i:\n",
    "                if type(j) == int:\n",
    "                    lflat.append(j)\n",
    "        elif type(i) == tuple:\n",
    "            for j in i:\n",
    "                if type(j) == int:\n",
    "                    lflat.append(j)\n",
    "        elif type(i) == set:\n",
    "            for j in i:\n",
    "                if type(j) == int:\n",
    "                    lflat.append(j)\n",
    "        elif type(i) == dict:\n",
    "            for j in i.keys():\n",
    "                if type(j) == int:\n",
    "                    lflat.append(j)\n",
    "            for k in i.values():\n",
    "                if type(k) == int:\n",
    "                    \n",
    "                    lflat.append(k)\n",
    "                else:\n",
    "                    \n",
    "                    lk = list(k)\n",
    "                    #print(lk)\n",
    "                    lflat.extend(flatten(lk)[0])\n",
    "        \n",
    "    for element in lflat:\n",
    "        product = product * element\n",
    "        \n",
    "    return lflat,product   "
   ]
  },
  {
   "cell_type": "code",
   "execution_count": 5,
   "id": "e11a5bd5",
   "metadata": {},
   "outputs": [],
   "source": [
    "product1 = flatten(list1)[1]"
   ]
  },
  {
   "cell_type": "code",
   "execution_count": 6,
   "id": "55f2a9bc",
   "metadata": {},
   "outputs": [
    {
     "data": {
      "text/plain": [
       "4134711838987085478833841242112000"
      ]
     },
     "execution_count": 6,
     "metadata": {},
     "output_type": "execute_result"
    }
   ],
   "source": [
    "product1"
   ]
  },
  {
   "cell_type": "markdown",
   "id": "ad99d9a0",
   "metadata": {},
   "source": [
    "## Question 2\n",
    "Write a python program for encrypting a message sent to you by your friend. The logic of encryption\n",
    "should be such that, for a the output should be z. For b, the output should be y. For c, the output should\n",
    "be x respectively. Also, the whitespace should be replaced with a dollar sign. Keep the punctuation\n",
    "marks unchanged.\n",
    "Input Sentence: I want to become a Data Scientist.\n",
    "Encrypt the above input sentence using the program you just created.\n",
    "Note: Convert the given input sentence into lowercase before encrypting. The final output should be\n",
    "lowercase."
   ]
  },
  {
   "cell_type": "code",
   "execution_count": 9,
   "id": "21bebc28",
   "metadata": {},
   "outputs": [
    {
     "name": "stdout",
     "output_type": "stream",
     "text": [
      "r$dzmg$gl$yvxlnv$z$wzgz$hxrvmgrhg\n"
     ]
    }
   ],
   "source": [
    "alphabet = ['a','b','c','d','e','f','g','h','i','j','k','l','m','n','o','p','q','r','s','t','u','v','w','x','y','z']\n",
    "msg = 'I want to become a Data Scientist'\n",
    "smsg = msg.lower()\n",
    "encrypted = ''\n",
    "for letter in smsg:\n",
    "    #encrypted = ''\n",
    "    #print(letter)\n",
    "    if letter == ' ':\n",
    "        #print(letter)\n",
    "        encrypted+='$'\n",
    "        #print(encrypted)\n",
    "    else:\n",
    "        #print(letter)\n",
    "        encrypted+=alphabet[25-alphabet.index(letter)]\n",
    "        #print(encrypted)\n",
    "print(encrypted)\n"
   ]
  },
  {
   "cell_type": "code",
   "execution_count": null,
   "id": "06b40fde",
   "metadata": {},
   "outputs": [],
   "source": []
  }
 ],
 "metadata": {
  "kernelspec": {
   "display_name": "Python 3 (ipykernel)",
   "language": "python",
   "name": "python3"
  },
  "language_info": {
   "codemirror_mode": {
    "name": "ipython",
    "version": 3
   },
   "file_extension": ".py",
   "mimetype": "text/x-python",
   "name": "python",
   "nbconvert_exporter": "python",
   "pygments_lexer": "ipython3",
   "version": "3.9.13"
  }
 },
 "nbformat": 4,
 "nbformat_minor": 5
}
