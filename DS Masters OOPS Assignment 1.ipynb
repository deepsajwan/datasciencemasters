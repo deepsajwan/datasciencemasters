{
 "cells": [
  {
   "cell_type": "markdown",
   "id": "e586d00b",
   "metadata": {},
   "source": [
    "## Question 1\n",
    "Explain Class and Object with respect to Object-Oriented Programming. Give a suitable example.\n",
    "\n",
    "Class: A class is a blueprint for the objects with methods and properties\n",
    "Object: An object is an instance of a class which can have their own property values\n",
    "\n",
    "For example: A car class can be created to have methods and properties common to all cars and each object of car class can have differen properties such as color, size, engine type"
   ]
  },
  {
   "cell_type": "markdown",
   "id": "5e2c3768",
   "metadata": {},
   "source": [
    "## Question 2\n",
    "Name the four pillars of OOPs.\n",
    "\n",
    "1. Inheritance: \n",
    "2. Polymorphism:\n",
    "3. Encapsulation: \n",
    "4. Abstraction: "
   ]
  },
  {
   "cell_type": "markdown",
   "id": "de568f5f",
   "metadata": {},
   "source": [
    "## Question 3\n",
    "Explain why the __init__() function is used. Give a suitable example.\n",
    "\n",
    "It is used as a constructor which will be executed when object of a class is created."
   ]
  },
  {
   "cell_type": "code",
   "execution_count": 1,
   "id": "dcf4aee8",
   "metadata": {},
   "outputs": [],
   "source": [
    "## __init__ function to set the student age and id\n",
    "class student:\n",
    "    def __init__(self,student_id,age):\n",
    "        self.student_id = student_id\n",
    "        self.age = age"
   ]
  },
  {
   "cell_type": "code",
   "execution_count": 2,
   "id": "b35e8e9a",
   "metadata": {},
   "outputs": [],
   "source": [
    "student_a = student(45,16)"
   ]
  },
  {
   "cell_type": "code",
   "execution_count": 3,
   "id": "1afce95a",
   "metadata": {},
   "outputs": [
    {
     "data": {
      "text/plain": [
       "16"
      ]
     },
     "execution_count": 3,
     "metadata": {},
     "output_type": "execute_result"
    }
   ],
   "source": [
    "student_a.age"
   ]
  },
  {
   "cell_type": "markdown",
   "id": "8330fae7",
   "metadata": {},
   "source": [
    "## Question 4\n",
    "Why self is used in OOPs?\n",
    "\n",
    "self is used as a reference to the class and is used to access properties within the class. Other words can be used instead of self. "
   ]
  },
  {
   "cell_type": "markdown",
   "id": "e35fa181",
   "metadata": {},
   "source": [
    "## Question 5\n",
    "What is inheritance? Give an example for each type of inheritance.\n",
    "\n",
    "Inheritance is one of the pillars of OOPS. Inheritance allows a class to inherit properties and methods of another calss."
   ]
  },
  {
   "cell_type": "markdown",
   "id": "ee0ffe67",
   "metadata": {},
   "source": [
    "### Single Heritance\n",
    "\n",
    "Derived class inherits properties and methods from a single class only"
   ]
  },
  {
   "cell_type": "code",
   "execution_count": 11,
   "id": "54d3bfaa",
   "metadata": {},
   "outputs": [],
   "source": [
    "class student:\n",
    "    def __init__(self,student_id,age):\n",
    "        self.student_id = student_id\n",
    "        self.age = age\n",
    "    def func1(self):\n",
    "        print(f\"I am {self.age} years old\")\n",
    "\n",
    "class sports_student(student):\n",
    "    def func2(self):\n",
    "        print(\"I am a sports student\")\n",
    "        "
   ]
  },
  {
   "cell_type": "code",
   "execution_count": 12,
   "id": "9dabba5a",
   "metadata": {},
   "outputs": [],
   "source": [
    "st1 = sports_student(45,15)"
   ]
  },
  {
   "cell_type": "code",
   "execution_count": 13,
   "id": "e863a98a",
   "metadata": {},
   "outputs": [
    {
     "name": "stdout",
     "output_type": "stream",
     "text": [
      "I am 15 years old\n"
     ]
    }
   ],
   "source": [
    "st1.func1()"
   ]
  },
  {
   "cell_type": "markdown",
   "id": "bbd60e82",
   "metadata": {},
   "source": [
    "### Multiple inheritance\n",
    "\n",
    "Derived class inherits properties and methods from multiple classes"
   ]
  },
  {
   "cell_type": "code",
   "execution_count": 15,
   "id": "35cbc482",
   "metadata": {
    "scrolled": true
   },
   "outputs": [
    {
     "name": "stdout",
     "output_type": "stream",
     "text": [
      "A:  5\n",
      "B:  6\n"
     ]
    }
   ],
   "source": [
    "class A:\n",
    "    a = \"\"\n",
    "    def afunc(self):\n",
    "        print(self.a)\n",
    "class B:\n",
    "    b = \"\"\n",
    "    def bfunc(self):\n",
    "        print(self.b)\n",
    "\n",
    "class C(A,B):\n",
    "    def cfunc(self):\n",
    "        print(\"A: \",self.a)\n",
    "        print(\"B: \",self.b)\n",
    "\n",
    "c1 = C()\n",
    "c1.a = 5\n",
    "c1.b = 6\n",
    "c1.cfunc()"
   ]
  },
  {
   "cell_type": "markdown",
   "id": "3a909b09",
   "metadata": {},
   "source": [
    "## Multilevel inheritance\n",
    "Properties and methods of the base and derived class are further inherited by another derived class"
   ]
  },
  {
   "cell_type": "code",
   "execution_count": 17,
   "id": "7fcdf90c",
   "metadata": {},
   "outputs": [
    {
     "name": "stdout",
     "output_type": "stream",
     "text": [
      "Vishnu\n",
      "Grandfather name : Vishnu\n",
      "Father name : Shyam\n",
      "Son name : Ram\n"
     ]
    }
   ],
   "source": [
    "# Python program to demonstrate\n",
    "# multilevel inheritance\n",
    "\n",
    "# Base class\n",
    "\n",
    "\n",
    "class Grandfather:\n",
    "\n",
    "    def __init__(self, grandfathername):\n",
    "        self.grandfathername = grandfathername\n",
    "\n",
    "# Intermediate class\n",
    "\n",
    "\n",
    "class Father(Grandfather):\n",
    "    def __init__(self, fathername, grandfathername):\n",
    "        self.fathername = fathername\n",
    "\n",
    "        # invoking constructor of Grandfather class\n",
    "        Grandfather.__init__(self, grandfathername)\n",
    "\n",
    "# Derived class\n",
    "\n",
    "\n",
    "class Son(Father):\n",
    "    def __init__(self, sonname, fathername, grandfathername):\n",
    "        self.sonname = sonname\n",
    "\n",
    "        # invoking constructor of Father class\n",
    "        Father.__init__(self, fathername, grandfathername)\n",
    "\n",
    "    def print_name(self):\n",
    "        print('Grandfather name :', self.grandfathername)\n",
    "        print(\"Father name :\", self.fathername)\n",
    "        print(\"Son name :\", self.sonname)\n",
    "\n",
    "\n",
    "# Driver code\n",
    "s1 = Son('Ram', 'Shyam', 'Vishnu')\n",
    "print(s1.grandfathername)\n",
    "s1.print_name()\n"
   ]
  },
  {
   "cell_type": "markdown",
   "id": "7797b2fc",
   "metadata": {},
   "source": [
    "## Hierarchial inheritance\n",
    "When two or more classes are derived from the same base class"
   ]
  },
  {
   "cell_type": "code",
   "execution_count": 18,
   "id": "2918522b",
   "metadata": {},
   "outputs": [],
   "source": [
    "class A:\n",
    "    def funca(self):\n",
    "        print(\"I am from base class A.\")\n",
    "class B(A):\n",
    "    def funcb(self):\n",
    "        print(\"I am from derived class B\")\n",
    "class C(A):\n",
    "    def funcc(self):\n",
    "        print(\"I am from derived class C\")"
   ]
  },
  {
   "cell_type": "code",
   "execution_count": 19,
   "id": "1eb0642e",
   "metadata": {},
   "outputs": [
    {
     "name": "stdout",
     "output_type": "stream",
     "text": [
      "I am from base class A.\n",
      "I am from derived class B\n",
      "I am from base class A.\n",
      "I am from derived class C\n"
     ]
    }
   ],
   "source": [
    "b = B()\n",
    "c = C()\n",
    "b.funca()\n",
    "b.funcb()\n",
    "c.funca()\n",
    "c.funcc()"
   ]
  },
  {
   "cell_type": "markdown",
   "id": "658ab955",
   "metadata": {},
   "source": [
    "## Hybrid inheritance\n",
    "If multiple types of inheritance are included"
   ]
  },
  {
   "cell_type": "code",
   "execution_count": 23,
   "id": "679ff8ff",
   "metadata": {},
   "outputs": [
    {
     "name": "stdout",
     "output_type": "stream",
     "text": [
      "This function is in A.\n",
      "This function is in B. \n"
     ]
    }
   ],
   "source": [
    "class A:\n",
    "    def funca(self):\n",
    "        print(\"This function is in A.\")\n",
    "\n",
    "\n",
    "class B(A):\n",
    "    def funcb(self):\n",
    "        print(\"This function is in B. \")\n",
    "\n",
    "\n",
    "class C(A):\n",
    "    def funcc(self):\n",
    "        print(\"This function is in C.\")\n",
    "\n",
    "\n",
    "class D(B, A):\n",
    "    def funcd(self):\n",
    "        print(\"This function is in D.\")\n",
    "\n",
    "\n",
    "o1 = D()\n",
    "o1.funca()\n",
    "o1.funcb()\n"
   ]
  },
  {
   "cell_type": "code",
   "execution_count": null,
   "id": "f197d3c9",
   "metadata": {},
   "outputs": [],
   "source": []
  }
 ],
 "metadata": {
  "kernelspec": {
   "display_name": "Python 3 (ipykernel)",
   "language": "python",
   "name": "python3"
  },
  "language_info": {
   "codemirror_mode": {
    "name": "ipython",
    "version": 3
   },
   "file_extension": ".py",
   "mimetype": "text/x-python",
   "name": "python",
   "nbconvert_exporter": "python",
   "pygments_lexer": "ipython3",
   "version": "3.9.13"
  }
 },
 "nbformat": 4,
 "nbformat_minor": 5
}
