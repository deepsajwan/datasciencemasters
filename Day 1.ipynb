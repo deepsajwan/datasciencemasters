{
 "cells": [
  {
   "cell_type": "code",
   "execution_count": 1,
   "id": "65ebcc18-a43f-4277-b0af-c11bdd842fd5",
   "metadata": {},
   "outputs": [],
   "source": [
    "a=10"
   ]
  },
  {
   "cell_type": "code",
   "execution_count": 2,
   "id": "472c5cc4-5e38-46e4-9a31-87d710d57f2e",
   "metadata": {},
   "outputs": [
    {
     "data": {
      "text/plain": [
       "10"
      ]
     },
     "execution_count": 2,
     "metadata": {},
     "output_type": "execute_result"
    }
   ],
   "source": [
    "a"
   ]
  },
  {
   "cell_type": "code",
   "execution_count": 5,
   "id": "2c743107-e847-450b-b5a2-d13026e3d5e8",
   "metadata": {},
   "outputs": [
    {
     "data": {
      "text/plain": [
       "bool"
      ]
     },
     "execution_count": 5,
     "metadata": {},
     "output_type": "execute_result"
    }
   ],
   "source": [
    "type(True)"
   ]
  },
  {
   "cell_type": "code",
   "execution_count": 1,
   "id": "11ee74d6-aeb1-4cd5-8cec-176091726e1a",
   "metadata": {},
   "outputs": [
    {
     "name": "stdout",
     "output_type": "stream",
     "text": [
      "a b c\n"
     ]
    }
   ],
   "source": [
    "print('a','b','c')"
   ]
  },
  {
   "cell_type": "code",
   "execution_count": 2,
   "id": "e5c83d91-9d14-4d6e-883c-25b50b90affc",
   "metadata": {},
   "outputs": [],
   "source": [
    "name = 'Deependra Sajwan'\n",
    "age = 37\n",
    "degree = 'B.Tech'\n"
   ]
  },
  {
   "cell_type": "code",
   "execution_count": null,
   "id": "16087da1-8e57-464d-ba92-63bed819e6b9",
   "metadata": {},
   "outputs": [],
   "source": [
    "print('My age is {}')"
   ]
  }
 ],
 "metadata": {
  "kernelspec": {
   "display_name": "Python 3 (ipykernel)",
   "language": "python",
   "name": "python3"
  },
  "language_info": {
   "codemirror_mode": {
    "name": "ipython",
    "version": 3
   },
   "file_extension": ".py",
   "mimetype": "text/x-python",
   "name": "python",
   "nbconvert_exporter": "python",
   "pygments_lexer": "ipython3",
   "version": "3.10.8"
  }
 },
 "nbformat": 4,
 "nbformat_minor": 5
}
