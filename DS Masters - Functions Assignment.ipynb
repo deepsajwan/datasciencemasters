{
 "cells": [
  {
   "cell_type": "markdown",
   "id": "b7c439c2",
   "metadata": {},
   "source": [
    "## Question 1\n",
    "\n",
    "def keyword is used to define a function"
   ]
  },
  {
   "cell_type": "code",
   "execution_count": 1,
   "id": "3af1c941",
   "metadata": {},
   "outputs": [],
   "source": [
    "## Function to return a list of odd numbers in the range 1 to 25\n",
    "def odd_numbers():\n",
    "    odd_list = []\n",
    "    for i in range(26):\n",
    "        if i%2!=0:\n",
    "            odd_list.append(i)\n",
    "    return odd_list\n",
    "        "
   ]
  },
  {
   "cell_type": "code",
   "execution_count": 2,
   "id": "f5bd5eb2",
   "metadata": {},
   "outputs": [
    {
     "data": {
      "text/plain": [
       "[1, 3, 5, 7, 9, 11, 13, 15, 17, 19, 21, 23, 25]"
      ]
     },
     "execution_count": 2,
     "metadata": {},
     "output_type": "execute_result"
    }
   ],
   "source": [
    "odd_numbers()"
   ]
  },
  {
   "cell_type": "markdown",
   "id": "de674f4b",
   "metadata": {},
   "source": [
    "## Question 2\n",
    "\n",
    "1. *args is used to take unknow number of positional arguments for a function\n",
    "1. **kwargs is used to take unknow number of keyword arguments for a function"
   ]
  },
  {
   "cell_type": "code",
   "execution_count": 3,
   "id": "20b3252f",
   "metadata": {},
   "outputs": [],
   "source": [
    "## Function for *args\n",
    "def args_function(*args):\n",
    "    arg_list = []\n",
    "    for arg in args:\n",
    "        arg_list.append(arg)\n",
    "    return arg_list\n",
    "        "
   ]
  },
  {
   "cell_type": "code",
   "execution_count": 4,
   "id": "b8a920d1",
   "metadata": {},
   "outputs": [
    {
     "data": {
      "text/plain": [
       "[2, 34, 5]"
      ]
     },
     "execution_count": 4,
     "metadata": {},
     "output_type": "execute_result"
    }
   ],
   "source": [
    "args_function(2,34,5)"
   ]
  },
  {
   "cell_type": "code",
   "execution_count": 7,
   "id": "63e52299",
   "metadata": {},
   "outputs": [],
   "source": [
    "## Function for **kwargs\n",
    "def kwargs_function(**kwargs):\n",
    "    kwarg_list = []\n",
    "    for kwarg in kwargs.values():\n",
    "        kwarg_list.append(kwarg)\n",
    "    return kwarg_list\n",
    "    "
   ]
  },
  {
   "cell_type": "code",
   "execution_count": 8,
   "id": "b2a02679",
   "metadata": {},
   "outputs": [
    {
     "data": {
      "text/plain": [
       "[5, 6]"
      ]
     },
     "execution_count": 8,
     "metadata": {},
     "output_type": "execute_result"
    }
   ],
   "source": [
    "kwargs_function(a=5,b=6)"
   ]
  },
  {
   "cell_type": "markdown",
   "id": "2af42241",
   "metadata": {},
   "source": [
    "## Question 3\n",
    "\n",
    "Iterator is an python object which contains a number of values and each value can be parsed.\n",
    "iter() method is used for initialization and next() method is used to iterate the iterator object"
   ]
  },
  {
   "cell_type": "code",
   "execution_count": 10,
   "id": "7020ccd5",
   "metadata": {},
   "outputs": [
    {
     "name": "stdout",
     "output_type": "stream",
     "text": [
      "2\n",
      "4\n",
      "6\n",
      "8\n",
      "10\n"
     ]
    }
   ],
   "source": [
    "iter_list = [2, 4, 6, 8, 10, 12, 14, 16, 18, 20]\n",
    "iter_obj = iter(iter_list)\n",
    "print(next(iter_obj))\n",
    "print(next(iter_obj))\n",
    "print(next(iter_obj))\n",
    "print(next(iter_obj))\n",
    "print(next(iter_obj))"
   ]
  },
  {
   "cell_type": "markdown",
   "id": "e2e137f0",
   "metadata": {},
   "source": [
    "## Question 4\n",
    "A generator function returns an iterator object which with help of yield keyword on next() call. "
   ]
  },
  {
   "cell_type": "code",
   "execution_count": 11,
   "id": "7921fb75",
   "metadata": {},
   "outputs": [],
   "source": [
    "def gen_func():\n",
    "    yield('First Call')\n",
    "    yield('Second Call')\n",
    "    yield('Third Call')"
   ]
  },
  {
   "cell_type": "code",
   "execution_count": 13,
   "id": "cc661cb4",
   "metadata": {},
   "outputs": [],
   "source": [
    "gen_obj = gen_func()"
   ]
  },
  {
   "cell_type": "code",
   "execution_count": 14,
   "id": "405d2ed3",
   "metadata": {},
   "outputs": [
    {
     "data": {
      "text/plain": [
       "'First Call'"
      ]
     },
     "execution_count": 14,
     "metadata": {},
     "output_type": "execute_result"
    }
   ],
   "source": [
    "next(gen_obj)"
   ]
  },
  {
   "cell_type": "code",
   "execution_count": 15,
   "id": "b8fe7e16",
   "metadata": {},
   "outputs": [
    {
     "data": {
      "text/plain": [
       "'Second Call'"
      ]
     },
     "execution_count": 15,
     "metadata": {},
     "output_type": "execute_result"
    }
   ],
   "source": [
    "next(gen_obj)"
   ]
  },
  {
   "cell_type": "code",
   "execution_count": 16,
   "id": "e31e1f1e",
   "metadata": {},
   "outputs": [
    {
     "data": {
      "text/plain": [
       "'Third Call'"
      ]
     },
     "execution_count": 16,
     "metadata": {},
     "output_type": "execute_result"
    }
   ],
   "source": [
    "next(gen_obj)"
   ]
  },
  {
   "cell_type": "markdown",
   "id": "555f6b58",
   "metadata": {},
   "source": [
    "## Question 5"
   ]
  },
  {
   "cell_type": "code",
   "execution_count": 18,
   "id": "0cd098e0",
   "metadata": {},
   "outputs": [],
   "source": [
    "# Function to identify prime number\n",
    "def prime_number(num):\n",
    "    for i in range(2,num):\n",
    "        if num%i==0:\n",
    "            return False\n",
    "    return True\n",
    "    "
   ]
  },
  {
   "cell_type": "code",
   "execution_count": 21,
   "id": "bda09a5e",
   "metadata": {},
   "outputs": [],
   "source": [
    "# Generator function for prime numbers\n",
    "def prime_generator(n):\n",
    "    num = 2\n",
    "    while n:\n",
    "        if prime_number(num):\n",
    "            yield num\n",
    "            n-=1\n",
    "        num+=1\n",
    "    return"
   ]
  },
  {
   "cell_type": "code",
   "execution_count": 22,
   "id": "aebf54f8",
   "metadata": {},
   "outputs": [],
   "source": [
    "prime_iter = prime_generator(1000)"
   ]
  },
  {
   "cell_type": "code",
   "execution_count": 23,
   "id": "7150d50c",
   "metadata": {},
   "outputs": [
    {
     "name": "stdout",
     "output_type": "stream",
     "text": [
      "2\n",
      "3\n",
      "5\n",
      "7\n",
      "11\n",
      "13\n",
      "17\n",
      "19\n",
      "23\n",
      "29\n",
      "31\n",
      "37\n",
      "41\n",
      "43\n",
      "47\n",
      "53\n",
      "59\n",
      "61\n",
      "67\n",
      "71\n"
     ]
    }
   ],
   "source": [
    "for i in range(20):\n",
    "    print(next(prime_iter))"
   ]
  },
  {
   "cell_type": "code",
   "execution_count": null,
   "id": "7e588581",
   "metadata": {},
   "outputs": [],
   "source": []
  }
 ],
 "metadata": {
  "kernelspec": {
   "display_name": "Python 3 (ipykernel)",
   "language": "python",
   "name": "python3"
  },
  "language_info": {
   "codemirror_mode": {
    "name": "ipython",
    "version": 3
   },
   "file_extension": ".py",
   "mimetype": "text/x-python",
   "name": "python",
   "nbconvert_exporter": "python",
   "pygments_lexer": "ipython3",
   "version": "3.9.13"
  }
 },
 "nbformat": 4,
 "nbformat_minor": 5
}
